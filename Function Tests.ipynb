{
 "cells": [
  {
   "cell_type": "code",
   "execution_count": 1,
   "metadata": {},
   "outputs": [],
   "source": [
    "import requests\n",
    "import re\n",
    "from bs4 import BeautifulSoup\n",
    "from scraper import MangaScraper\n",
    "from constants import Source"
   ]
  },
  {
   "cell_type": "code",
   "execution_count": 2,
   "metadata": {},
   "outputs": [],
   "source": [
    "resp = requests.get(\"https://manganelo.com/\")\n",
    "markup = resp.text"
   ]
  },
  {
   "cell_type": "code",
   "execution_count": 3,
   "metadata": {},
   "outputs": [],
   "source": [
    "soup = BeautifulSoup(markup, \"html.parser\")"
   ]
  },
  {
   "cell_type": "code",
   "execution_count": 4,
   "metadata": {},
   "outputs": [
    {
     "data": {
      "text/plain": [
       "24"
      ]
     },
     "execution_count": 4,
     "metadata": {},
     "output_type": "execute_result"
    }
   ],
   "source": [
    "popular_urls = soup.select(\"div > div.item > div > h3 > a\")\n",
    "len(popular_urls)"
   ]
  },
  {
   "cell_type": "code",
   "execution_count": 5,
   "metadata": {},
   "outputs": [
    {
     "data": {
      "text/plain": [
       "220"
      ]
     },
     "execution_count": 5,
     "metadata": {},
     "output_type": "execute_result"
    }
   ],
   "source": [
    "popular_urls = soup.select(\"div.content-homepage-item > div.content-homepage-item-right a\")\n",
    "len(popular_urls)"
   ]
  },
  {
   "cell_type": "code",
   "execution_count": 6,
   "metadata": {},
   "outputs": [
    {
     "name": "stdout",
     "output_type": "stream",
     "text": [
      "Tales Of Demons And Gods(0)\n",
      "Legend (Takano Masaharu)(0)\n",
      "Survival Story Of A Sword King In A Fantasy World(0)\n",
      "Rebirth Of The Urban Immortal Cultivator(0)\n",
      "Versatile Mage(0)\n",
      "Immortal, Invincible(0)\n",
      "God Of Martial Arts(0)\n",
      "Solo Leveling(0)\n",
      "I Became A Legend A Decade Later After Telling My Comrades To Leave Everything To Me And Retreat First(0)\n",
      "Tsuyokute New Saga(0)\n",
      "Metropolitan Supremacy System(0)\n",
      "Murenase! Shiiton Gakuen(0)\n",
      "Sekkaku Cheat Wo Moratte Isekai Ni Teni Shita N Dakara, Suki Na You Ni Ikitemitai(0)\n",
      "Himekishi Ga Classmate!(0)\n",
      "Peerless Dad(0)\n",
      "I Am The Sorcerer King(0)\n",
      "Rebirth Of The Divine Doctor(0)\n",
      "Apotheosis(0)\n",
      "Strongest Anti M.e.t.a(0)\n",
      "Kimetsu No Yaiba(0)\n",
      "Isekai Wo Seigyo Mahou De Kirihirake!(0)\n",
      "I Have A Slow Living In Different World (I Wish)(0)\n",
      "Ugly Woman’S Harem Code(0)\n",
      "I Was Trash(0)\n",
      "The Devil Ring(0)\n"
     ]
    }
   ],
   "source": [
    "scraper = MangaScraper(Source.MANGANELO)\n",
    "scraper.markup = markup\n",
    "\n",
    "mangas = scraper.popular\n",
    "for manga in mangas:\n",
    "    print(manga)"
   ]
  },
  {
   "cell_type": "code",
   "execution_count": 10,
   "metadata": {},
   "outputs": [
    {
     "data": {
      "text/plain": [
       "'254.5'"
      ]
     },
     "execution_count": 10,
     "metadata": {},
     "output_type": "execute_result"
    }
   ],
   "source": [
    "pattern = r\"[\\s\\-:]*([0-9.]+)[\\s\\-:]\"\n",
    "string = \"Chapter 254.5: News Of The Spirit Origin Fruit (Part 2)\"\n",
    "match = re.search(pattern, string)\n",
    "match.groups()[0]"
   ]
  },
  {
   "cell_type": "code",
   "execution_count": null,
   "metadata": {},
   "outputs": [],
   "source": []
  }
 ],
 "metadata": {
  "kernelspec": {
   "display_name": "Python 3",
   "language": "python",
   "name": "python3"
  },
  "language_info": {
   "codemirror_mode": {
    "name": "ipython",
    "version": 3
   },
   "file_extension": ".py",
   "mimetype": "text/x-python",
   "name": "python",
   "nbconvert_exporter": "python",
   "pygments_lexer": "ipython3",
   "version": "3.7.3"
  }
 },
 "nbformat": 4,
 "nbformat_minor": 2
}
