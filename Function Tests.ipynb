{
 "cells": [
  {
   "cell_type": "code",
   "execution_count": 1,
   "metadata": {},
   "outputs": [],
   "source": [
    "from scraper import MangaScraper\n",
    "from constants import Source\n",
    "#from constants import Source\n",
    "from pathlib import Path\n",
    "from os import path\n",
    "import os\n",
    "import re"
   ]
  },
  {
   "cell_type": "code",
   "execution_count": 2,
   "metadata": {},
   "outputs": [
    {
     "name": "stdout",
     "output_type": "stream",
     "text": [
      "C:\\Studio\\Python\\WeScrape2\n",
      "C:\\Studio\\Python\\WeScrape2\\res\n"
     ]
    }
   ],
   "source": [
    "base_path = path.join(path.dirname(os.getcwd()), \"WeScrape2\")\n",
    "resource_path = path.join(base_path, \"res\")\n",
    "print(f\"{base_path}\\n{resource_path}\")\n",
    "\n"
   ]
  },
  {
   "cell_type": "code",
   "execution_count": 3,
   "metadata": {},
   "outputs": [],
   "source": [
    "home_markup = Path(path.join(resource_path, \"manga_home.html\")).read_text(encoding=\"utf-8\")\n",
    "search_markup = Path(path.join(resource_path, \"manga_search.html\")).read_text(encoding=\"utf-8\")\n",
    "item_markup = Path(path.join(resource_path, \"manga_item.html\")).read_text(encoding=\"utf-8\")"
   ]
  },
  {
   "cell_type": "code",
   "execution_count": 4,
   "metadata": {},
   "outputs": [],
   "source": [
    "scraper = MangaScraper(Source.MANGAKAKALOT)"
   ]
  },
  {
   "cell_type": "code",
   "execution_count": 5,
   "metadata": {},
   "outputs": [
    {
     "name": "stdout",
     "output_type": "stream",
     "text": [
      "I Am The Sorcerer King(71)\n"
     ]
    }
   ],
   "source": [
    "manga = scraper.get_manga(item_markup)\n",
    "print(manga)"
   ]
  },
  {
   "cell_type": "code",
   "execution_count": 6,
   "metadata": {},
   "outputs": [
    {
     "name": "stdout",
     "output_type": "stream",
     "text": [
      "City Hunter(0)\n",
      "The Dark Queen and I Strike Back(0)\n",
      "Why are you here Sensei!?(0)\n",
      "Black Clover(0)\n",
      "Boku no Kokoro no Yabai yatsu(0)\n",
      "Owari no Serafu(0)\n",
      "Heat(0)\n",
      "REAL(0)\n",
      "This Love Is Assumption Outside for Fukami Kun(0)\n",
      "Himawari-san (SUGANO Manami)(0)\n",
      "The Alexis Empire Chronicle(0)\n",
      "Life Game(0)\n",
      "My Stepmom's Daughter Was My Ex-Girlfriend(0)\n",
      "Kimetsu no Yaiba(0)\n",
      "Mayoi Neko to Koi no Ashiato(0)\n",
      "Wind Sword(0)\n",
      "Attack on Titan(0)\n",
      "Yakusoku no Neverland(0)\n",
      "Haikyuu!!(0)\n",
      "Bokutachi wa Benkyou ga Dekinai(0)\n",
      "Act-Age(0)\n",
      "World Trigger(0)\n",
      "Jigokuraku (KAKU Yuuji)(0)\n",
      "Seraph of the End(0)\n",
      "Platina End(0)\n",
      "Jagaaaaaan(0)\n",
      "Kemono-Human School(0)\n",
      "Immortal Nanny Dad(0)\n",
      "Kitsune to Pancake(0)\n",
      "No Guard Wife(0)\n",
      "Kurosagi(0)\n",
      "Jujutsu Kaisen(0)\n",
      "Sousei no Onmyouji(0)\n",
      "Ao no Exorcist(0)\n",
      "Mission: Yozakura Family(0)\n",
      "Samurai 8: Hachimaruden(0)\n",
      "Usogui(0)\n",
      "Batuque(0)\n",
      "Nejimaki Kagyu(0)\n",
      "Peach Milk Crown(0)\n",
      "The Correct Way of Using Psychic Abilities(0)\n",
      "Amai Seikatsu(0)\n",
      "Scorching Romance(0)\n",
      "Maomarimo(0)\n",
      "Isekai de Saikyou no Tsue ni Tensei shita Ore ga Iyagaru Shoujo wo Muriyari Mahou Shoujo ni P suru!(0)\n",
      "Lycanthrope Bouken Hoken(0)\n",
      "Between Two Lips(0)\n",
      "Harukanaru Jikuu no Naka de 6(0)\n",
      "Blood Lovers(0)\n",
      "I Was XXX By My Idol(0)\n",
      "I Was Trash(0)\n",
      "Ore ga Suki nano wa Imouto dakedo Imouto ja Nai(0)\n",
      "Motokare ga Fudanshi ni Natteorimashite.(0)\n",
      "Mado kara Madoka-chan(0)\n",
      "Sen no Sukiru o Motsu Otoko(0)\n",
      "Just A Girl He Knows(0)\n"
     ]
    }
   ],
   "source": [
    "mangas = scraper.home.get_latest_mangas(home_markup)\n",
    "for manga in mangas:\n",
    "    print(manga)"
   ]
  },
  {
   "cell_type": "code",
   "execution_count": 12,
   "metadata": {},
   "outputs": [
    {
     "name": "stdout",
     "output_type": "stream",
     "text": [
      "Rebirth Of The Urban Immortal Cultivator(0)\n",
      "Versatile Mage(0)\n",
      "PAINKILLER(0)\n",
      "Tomo-chan wa Onnanoko!(0)\n",
      "Release That Witch(0)\n",
      "Metropolitan Supremacy System(0)\n",
      "Strongest Abandoned Son(0)\n",
      "Re:Monster(0)\n",
      "Hero? I Quit A Long Time Ago.(0)\n",
      "Yong Heng Zhi Zun(0)\n",
      "Holy Chef, Crazy Empress(0)\n",
      "Master of Gu(0)\n",
      "Shikkaku Mon no Saikyou Kenja(0)\n",
      "I Am The Sorcerer King(0)\n",
      "Metropolitan System(0)\n",
      "The Unsuccessful Yet Academically Unparalleled Sage ~A Cheating S-Rank Sorcerer's Post-Rebirth Adventurer Log~(0)\n",
      "Survival Story of a Sword King in a Fantasy World(0)\n",
      "Isekai Nonbiri Nouka(0)\n",
      "Strongest Anti M.E.T.A(0)\n",
      "Please don't bully me, Nagatoro(0)\n"
     ]
    }
   ],
   "source": [
    "mangas = scraper.home.get_popular_mangas(home_markup)\n",
    "for manga in mangas:\n",
    "    print(manga)"
   ]
  },
  {
   "cell_type": "markdown",
   "metadata": {},
   "source": [
    "{{mangas}}"
   ]
  },
  {
   "cell_type": "code",
   "execution_count": 8,
   "metadata": {},
   "outputs": [
    {
     "name": "stdout",
     "output_type": "stream",
     "text": [
      "Position of The Matched String\n"
     ]
    },
    {
     "data": {
      "text/plain": [
       "(0, 15)"
      ]
     },
     "execution_count": 8,
     "metadata": {},
     "output_type": "execute_result"
    }
   ],
   "source": [
    "string = \"Chapter 73.1abB\"\n",
    "pattern = r\".+[\\s\\\\-_]{1}([0-9a-zA-Z.]+)\"\n",
    "match = re.search(pattern, string)\n",
    "print(\"Position of The Matched String\")\n",
    "match.span()"
   ]
  },
  {
   "cell_type": "code",
   "execution_count": 9,
   "metadata": {},
   "outputs": [
    {
     "name": "stdout",
     "output_type": "stream",
     "text": [
      "Groups Matched From The Pattern\n"
     ]
    },
    {
     "data": {
      "text/plain": [
       "('73.1abB',)"
      ]
     },
     "execution_count": 9,
     "metadata": {},
     "output_type": "execute_result"
    }
   ],
   "source": [
    "print(\"Groups Matched From The Pattern\")\n",
    "match.groups()"
   ]
  },
  {
   "cell_type": "code",
   "execution_count": 10,
   "metadata": {},
   "outputs": [
    {
     "data": {
      "text/plain": [
       "'73.1abB'"
      ]
     },
     "execution_count": 10,
     "metadata": {},
     "output_type": "execute_result"
    }
   ],
   "source": [
    "match.groups()[0]"
   ]
  },
  {
   "cell_type": "code",
   "execution_count": 11,
   "metadata": {},
   "outputs": [
    {
     "name": "stdout",
     "output_type": "stream",
     "text": [
      " brent \n",
      "brent\n"
     ]
    }
   ],
   "source": [
    "s = \" brent \"\n",
    "print(s)\n",
    "print(s.strip())"
   ]
  },
  {
   "cell_type": "code",
   "execution_count": null,
   "metadata": {},
   "outputs": [],
   "source": []
  },
  {
   "cell_type": "code",
   "execution_count": null,
   "metadata": {},
   "outputs": [],
   "source": []
  }
 ],
 "metadata": {
  "kernelspec": {
   "display_name": "Python 3",
   "language": "python",
   "name": "python3"
  },
  "language_info": {
   "codemirror_mode": {
    "name": "ipython",
    "version": 3
   },
   "file_extension": ".py",
   "mimetype": "text/x-python",
   "name": "python",
   "nbconvert_exporter": "python",
   "pygments_lexer": "ipython3",
   "version": "3.7.3"
  }
 },
 "nbformat": 4,
 "nbformat_minor": 2
}
