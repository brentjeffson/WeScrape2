{
 "cells": [
  {
   "cell_type": "code",
   "execution_count": 1,
   "metadata": {},
   "outputs": [],
   "source": [
    "from scraper import MangaScraper\n",
    "from constants import Source\n",
    "from pathlib import Path\n",
    "from os import path\n",
    "import os\n",
    "import re"
   ]
  },
  {
   "cell_type": "code",
   "execution_count": 2,
   "metadata": {},
   "outputs": [
    {
     "name": "stdout",
     "output_type": "stream",
     "text": [
      "C:\\Studio\\Python\\WeScrape2\n",
      "C:\\Studio\\Python\\WeScrape2\\res\n"
     ]
    }
   ],
   "source": [
    "base_path = path.join(path.dirname(os.getcwd()), \"WeScrape2\")\n",
    "resource_path = path.join(base_path, \"res\")\n",
    "print(f\"{base_path}\\n{resource_path}\")\n",
    "\n"
   ]
  },
  {
   "cell_type": "code",
   "execution_count": 3,
   "metadata": {},
   "outputs": [],
   "source": [
    "home_markup = Path(path.join(resource_path, \"manga_home.html\")).read_text(encoding=\"utf-8\")\n",
    "search_markup = Path(path.join(resource_path, \"manga_search.html\")).read_text(encoding=\"utf-8\")\n",
    "item_markup = Path(path.join(resource_path, \"manga_item.html\")).read_text(encoding=\"utf-8\")"
   ]
  },
  {
   "cell_type": "code",
   "execution_count": 4,
   "metadata": {},
   "outputs": [],
   "source": [
    "scraper = MangaScraper(Source.MANGAKAKALOT)"
   ]
  },
  {
   "cell_type": "code",
   "execution_count": 5,
   "metadata": {},
   "outputs": [
    {
     "ename": "TypeError",
     "evalue": "get_manga() missing 3 required positional arguments: 'selectors', 'patterns', and 'source'",
     "output_type": "error",
     "traceback": [
      "\u001b[1;31m---------------------------------------------------------------------------\u001b[0m",
      "\u001b[1;31mTypeError\u001b[0m                                 Traceback (most recent call last)",
      "\u001b[1;32m<ipython-input-5-0eb5f6b53cbd>\u001b[0m in \u001b[0;36m<module>\u001b[1;34m\u001b[0m\n\u001b[1;32m----> 1\u001b[1;33m \u001b[0mmanga\u001b[0m \u001b[1;33m=\u001b[0m \u001b[0mscraper\u001b[0m\u001b[1;33m.\u001b[0m\u001b[0mget_manga\u001b[0m\u001b[1;33m(\u001b[0m\u001b[0mitem_markup\u001b[0m\u001b[1;33m)\u001b[0m\u001b[1;33m\u001b[0m\u001b[1;33m\u001b[0m\u001b[0m\n\u001b[0m\u001b[0;32m      2\u001b[0m \u001b[0mprint\u001b[0m\u001b[1;33m(\u001b[0m\u001b[0mmanga\u001b[0m\u001b[1;33m)\u001b[0m\u001b[1;33m\u001b[0m\u001b[1;33m\u001b[0m\u001b[0m\n",
      "\u001b[1;31mTypeError\u001b[0m: get_manga() missing 3 required positional arguments: 'selectors', 'patterns', and 'source'"
     ]
    }
   ],
   "source": [
    "scraper.markup = item_markup\n",
    "manga = scraper.manga\n",
    "print(manga)"
   ]
  },
  {
   "cell_type": "code",
   "execution_count": null,
   "metadata": {},
   "outputs": [],
   "source": [
    "scraper.markup = home_markup\n",
    "mangas = scraper.latest\n",
    "for manga in mangas:\n",
    "    print(manga)"
   ]
  },
  {
   "cell_type": "code",
   "execution_count": null,
   "metadata": {},
   "outputs": [],
   "source": [
    "mangas = scraper.popular\n",
    "for manga in mangas:\n",
    "    print(manga)"
   ]
  },
  {
   "cell_type": "code",
   "execution_count": null,
   "metadata": {},
   "outputs": [],
   "source": [
    "mangas = scraper.search_online(\"survival\", Source.MANGAKAKALOT)\n",
    "for manga in mangas:\n",
    "    print(manga)"
   ]
  },
  {
   "cell_type": "code",
   "execution_count": null,
   "metadata": {},
   "outputs": [],
   "source": [
    "print(\"<h3>TEST LEVIATANSCANS</h3>\")\n",
    "home_mp = Path(path.join(resource_path, \"leviatanscans_home.html\")).read_text()\n",
    "item_mp = Path(path.join(resource_path, \"leviatanscans_item.html\")).read_text()\n",
    "item_content_mp = Path(path.join(resource_path, \"leviatanscans_item_content.html\")).read_text()\n",
    "search_mp = Path(path.join(resource_path, \"leviatanscans_search.html\")).read_text()"
   ]
  },
  {
   "cell_type": "code",
   "execution_count": null,
   "metadata": {},
   "outputs": [],
   "source": [
    "scraper = MangaScraper(Source.LEVIATANSCANS)"
   ]
  },
  {
   "cell_type": "code",
   "execution_count": null,
   "metadata": {},
   "outputs": [],
   "source": [
    "manga = scraper.get_manga(item_mp)\n",
    "print(manga)"
   ]
  },
  {
   "cell_type": "code",
   "execution_count": null,
   "metadata": {},
   "outputs": [],
   "source": [
    "string = \"Chapter 73.1abB\"\n",
    "pattern = r\".+[\\s\\\\-_]{1}([0-9a-zA-Z.]+)\"\n",
    "match = re.search(pattern, string)\n",
    "print(\"Position of The Matched String\")\n",
    "match.span()"
   ]
  },
  {
   "cell_type": "code",
   "execution_count": null,
   "metadata": {},
   "outputs": [],
   "source": []
  }
 ],
 "metadata": {
  "kernelspec": {
   "display_name": "Python 3",
   "language": "python",
   "name": "python3"
  },
  "language_info": {
   "codemirror_mode": {
    "name": "ipython",
    "version": 3
   },
   "file_extension": ".py",
   "mimetype": "text/x-python",
   "name": "python",
   "nbconvert_exporter": "python",
   "pygments_lexer": "ipython3",
   "version": "3.7.3"
  }
 },
 "nbformat": 4,
 "nbformat_minor": 2
}
